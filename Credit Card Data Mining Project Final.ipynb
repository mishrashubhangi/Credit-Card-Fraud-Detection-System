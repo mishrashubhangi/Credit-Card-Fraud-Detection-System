{
 "cells": [
  {
   "cell_type": "code",
   "execution_count": 5,
   "id": "18083ad9",
   "metadata": {},
   "outputs": [],
   "source": [
    "import pandas as pd\n",
    "from datetime import datetime\n",
    "from datetime import date\n",
    "import seaborn as sns\n",
    "import matplotlib.pyplot as plt\n",
    "from sklearn.pipeline import make_pipeline \n",
    "from sklearn.pipeline import Pipeline, FeatureUnion\n",
    "from sklearn.preprocessing import StandardScaler\n",
    "from sklearn.model_selection import train_test_split\n",
    "from sklearn.metrics import mean_squared_error\n",
    "from sklearn.linear_model import LogisticRegression\n",
    "import numpy as np\n",
    "import warnings\n",
    "warnings.filterwarnings(\"ignore\")"
   ]
  },
  {
   "cell_type": "code",
   "execution_count": 6,
   "id": "6b672d78",
   "metadata": {},
   "outputs": [],
   "source": [
    "data=pd.read_csv(r'C:\\Users\\bhush\\OneDrive\\Desktop\\Project\\fraudTrain.csv\\fraudTrain.csv')"
   ]
  },
  {
   "cell_type": "code",
   "execution_count": 7,
   "id": "cccc4b3b",
   "metadata": {},
   "outputs": [],
   "source": [
    "data=data.iloc[:,1:]"
   ]
  },
  {
   "cell_type": "code",
   "execution_count": 8,
   "id": "2defd285",
   "metadata": {},
   "outputs": [],
   "source": [
    "# Converting timestamp to Date and Time\n",
    "data['Date'] = pd.to_datetime(data['trans_date_trans_time']).dt.date\n",
    "data['Time'] = pd.to_datetime(data['trans_date_trans_time']).dt.time\n",
    "data['Weekday'] = pd.to_datetime(data['trans_date_trans_time']).dt.day_name()"
   ]
  },
  {
   "cell_type": "code",
   "execution_count": 9,
   "id": "1b77399b",
   "metadata": {},
   "outputs": [],
   "source": [
    "data.drop(['trans_date_trans_time'],axis=1,inplace=True)"
   ]
  },
  {
   "cell_type": "code",
   "execution_count": 10,
   "id": "0d4ed48f",
   "metadata": {},
   "outputs": [
    {
     "data": {
      "text/html": [
       "<div>\n",
       "<style scoped>\n",
       "    .dataframe tbody tr th:only-of-type {\n",
       "        vertical-align: middle;\n",
       "    }\n",
       "\n",
       "    .dataframe tbody tr th {\n",
       "        vertical-align: top;\n",
       "    }\n",
       "\n",
       "    .dataframe thead th {\n",
       "        text-align: right;\n",
       "    }\n",
       "</style>\n",
       "<table border=\"1\" class=\"dataframe\">\n",
       "  <thead>\n",
       "    <tr style=\"text-align: right;\">\n",
       "      <th></th>\n",
       "      <th>cc_num</th>\n",
       "      <th>merchant</th>\n",
       "      <th>category</th>\n",
       "      <th>amt</th>\n",
       "      <th>first</th>\n",
       "      <th>last</th>\n",
       "      <th>gender</th>\n",
       "      <th>street</th>\n",
       "      <th>city</th>\n",
       "      <th>state</th>\n",
       "      <th>...</th>\n",
       "      <th>job</th>\n",
       "      <th>dob</th>\n",
       "      <th>trans_num</th>\n",
       "      <th>unix_time</th>\n",
       "      <th>merch_lat</th>\n",
       "      <th>merch_long</th>\n",
       "      <th>is_fraud</th>\n",
       "      <th>Date</th>\n",
       "      <th>Time</th>\n",
       "      <th>Weekday</th>\n",
       "    </tr>\n",
       "  </thead>\n",
       "  <tbody>\n",
       "    <tr>\n",
       "      <th>0</th>\n",
       "      <td>2703186189652095</td>\n",
       "      <td>fraud_Rippin, Kub and Mann</td>\n",
       "      <td>misc_net</td>\n",
       "      <td>4.97</td>\n",
       "      <td>Jennifer</td>\n",
       "      <td>Banks</td>\n",
       "      <td>F</td>\n",
       "      <td>561 Perry Cove</td>\n",
       "      <td>Moravian Falls</td>\n",
       "      <td>NC</td>\n",
       "      <td>...</td>\n",
       "      <td>Psychologist, counselling</td>\n",
       "      <td>1988-03-09</td>\n",
       "      <td>0b242abb623afc578575680df30655b9</td>\n",
       "      <td>1325376018</td>\n",
       "      <td>36.011293</td>\n",
       "      <td>-82.048315</td>\n",
       "      <td>0</td>\n",
       "      <td>2019-01-01</td>\n",
       "      <td>00:00:18</td>\n",
       "      <td>Tuesday</td>\n",
       "    </tr>\n",
       "    <tr>\n",
       "      <th>1</th>\n",
       "      <td>630423337322</td>\n",
       "      <td>fraud_Heller, Gutmann and Zieme</td>\n",
       "      <td>grocery_pos</td>\n",
       "      <td>107.23</td>\n",
       "      <td>Stephanie</td>\n",
       "      <td>Gill</td>\n",
       "      <td>F</td>\n",
       "      <td>43039 Riley Greens Suite 393</td>\n",
       "      <td>Orient</td>\n",
       "      <td>WA</td>\n",
       "      <td>...</td>\n",
       "      <td>Special educational needs teacher</td>\n",
       "      <td>1978-06-21</td>\n",
       "      <td>1f76529f8574734946361c461b024d99</td>\n",
       "      <td>1325376044</td>\n",
       "      <td>49.159047</td>\n",
       "      <td>-118.186462</td>\n",
       "      <td>0</td>\n",
       "      <td>2019-01-01</td>\n",
       "      <td>00:00:44</td>\n",
       "      <td>Tuesday</td>\n",
       "    </tr>\n",
       "    <tr>\n",
       "      <th>2</th>\n",
       "      <td>38859492057661</td>\n",
       "      <td>fraud_Lind-Buckridge</td>\n",
       "      <td>entertainment</td>\n",
       "      <td>220.11</td>\n",
       "      <td>Edward</td>\n",
       "      <td>Sanchez</td>\n",
       "      <td>M</td>\n",
       "      <td>594 White Dale Suite 530</td>\n",
       "      <td>Malad City</td>\n",
       "      <td>ID</td>\n",
       "      <td>...</td>\n",
       "      <td>Nature conservation officer</td>\n",
       "      <td>1962-01-19</td>\n",
       "      <td>a1a22d70485983eac12b5b88dad1cf95</td>\n",
       "      <td>1325376051</td>\n",
       "      <td>43.150704</td>\n",
       "      <td>-112.154481</td>\n",
       "      <td>0</td>\n",
       "      <td>2019-01-01</td>\n",
       "      <td>00:00:51</td>\n",
       "      <td>Tuesday</td>\n",
       "    </tr>\n",
       "    <tr>\n",
       "      <th>3</th>\n",
       "      <td>3534093764340240</td>\n",
       "      <td>fraud_Kutch, Hermiston and Farrell</td>\n",
       "      <td>gas_transport</td>\n",
       "      <td>45.00</td>\n",
       "      <td>Jeremy</td>\n",
       "      <td>White</td>\n",
       "      <td>M</td>\n",
       "      <td>9443 Cynthia Court Apt. 038</td>\n",
       "      <td>Boulder</td>\n",
       "      <td>MT</td>\n",
       "      <td>...</td>\n",
       "      <td>Patent attorney</td>\n",
       "      <td>1967-01-12</td>\n",
       "      <td>6b849c168bdad6f867558c3793159a81</td>\n",
       "      <td>1325376076</td>\n",
       "      <td>47.034331</td>\n",
       "      <td>-112.561071</td>\n",
       "      <td>0</td>\n",
       "      <td>2019-01-01</td>\n",
       "      <td>00:01:16</td>\n",
       "      <td>Tuesday</td>\n",
       "    </tr>\n",
       "    <tr>\n",
       "      <th>4</th>\n",
       "      <td>375534208663984</td>\n",
       "      <td>fraud_Keeling-Crist</td>\n",
       "      <td>misc_pos</td>\n",
       "      <td>41.96</td>\n",
       "      <td>Tyler</td>\n",
       "      <td>Garcia</td>\n",
       "      <td>M</td>\n",
       "      <td>408 Bradley Rest</td>\n",
       "      <td>Doe Hill</td>\n",
       "      <td>VA</td>\n",
       "      <td>...</td>\n",
       "      <td>Dance movement psychotherapist</td>\n",
       "      <td>1986-03-28</td>\n",
       "      <td>a41d7549acf90789359a9aa5346dcb46</td>\n",
       "      <td>1325376186</td>\n",
       "      <td>38.674999</td>\n",
       "      <td>-78.632459</td>\n",
       "      <td>0</td>\n",
       "      <td>2019-01-01</td>\n",
       "      <td>00:03:06</td>\n",
       "      <td>Tuesday</td>\n",
       "    </tr>\n",
       "  </tbody>\n",
       "</table>\n",
       "<p>5 rows × 24 columns</p>\n",
       "</div>"
      ],
      "text/plain": [
       "             cc_num                            merchant       category  \\\n",
       "0  2703186189652095          fraud_Rippin, Kub and Mann       misc_net   \n",
       "1      630423337322     fraud_Heller, Gutmann and Zieme    grocery_pos   \n",
       "2    38859492057661                fraud_Lind-Buckridge  entertainment   \n",
       "3  3534093764340240  fraud_Kutch, Hermiston and Farrell  gas_transport   \n",
       "4   375534208663984                 fraud_Keeling-Crist       misc_pos   \n",
       "\n",
       "      amt      first     last gender                        street  \\\n",
       "0    4.97   Jennifer    Banks      F                561 Perry Cove   \n",
       "1  107.23  Stephanie     Gill      F  43039 Riley Greens Suite 393   \n",
       "2  220.11     Edward  Sanchez      M      594 White Dale Suite 530   \n",
       "3   45.00     Jeremy    White      M   9443 Cynthia Court Apt. 038   \n",
       "4   41.96      Tyler   Garcia      M              408 Bradley Rest   \n",
       "\n",
       "             city state  ...                                job         dob  \\\n",
       "0  Moravian Falls    NC  ...          Psychologist, counselling  1988-03-09   \n",
       "1          Orient    WA  ...  Special educational needs teacher  1978-06-21   \n",
       "2      Malad City    ID  ...        Nature conservation officer  1962-01-19   \n",
       "3         Boulder    MT  ...                    Patent attorney  1967-01-12   \n",
       "4        Doe Hill    VA  ...     Dance movement psychotherapist  1986-03-28   \n",
       "\n",
       "                          trans_num   unix_time  merch_lat  merch_long  \\\n",
       "0  0b242abb623afc578575680df30655b9  1325376018  36.011293  -82.048315   \n",
       "1  1f76529f8574734946361c461b024d99  1325376044  49.159047 -118.186462   \n",
       "2  a1a22d70485983eac12b5b88dad1cf95  1325376051  43.150704 -112.154481   \n",
       "3  6b849c168bdad6f867558c3793159a81  1325376076  47.034331 -112.561071   \n",
       "4  a41d7549acf90789359a9aa5346dcb46  1325376186  38.674999  -78.632459   \n",
       "\n",
       "  is_fraud        Date      Time  Weekday  \n",
       "0        0  2019-01-01  00:00:18  Tuesday  \n",
       "1        0  2019-01-01  00:00:44  Tuesday  \n",
       "2        0  2019-01-01  00:00:51  Tuesday  \n",
       "3        0  2019-01-01  00:01:16  Tuesday  \n",
       "4        0  2019-01-01  00:03:06  Tuesday  \n",
       "\n",
       "[5 rows x 24 columns]"
      ]
     },
     "execution_count": 10,
     "metadata": {},
     "output_type": "execute_result"
    }
   ],
   "source": [
    "data.head()"
   ]
  },
  {
   "cell_type": "code",
   "execution_count": 11,
   "id": "27206073",
   "metadata": {},
   "outputs": [],
   "source": [
    "data['Name']= data['first']+\" \"+data['last']"
   ]
  },
  {
   "cell_type": "code",
   "execution_count": 12,
   "id": "f37ad6d8",
   "metadata": {},
   "outputs": [],
   "source": [
    "data=data[[\"Date\",\"Time\",\"Weekday\",\"cc_num\",\"merchant\",\"category\",\"amt\",\"Name\",\"gender\",\"street\",\"city\",\"state\",\"zip\",\"lat\",\"long\",\"city_pop\",\"job\",\"dob\",\"trans_num\",\"unix_time\",\"merch_lat\",\"merch_long\",\"is_fraud\"]]"
   ]
  },
  {
   "cell_type": "code",
   "execution_count": 13,
   "id": "b4ee3a6c",
   "metadata": {},
   "outputs": [],
   "source": [
    "#data.drop(['lat','long','trans_num','unix_time','merch_lat','merch_long'],axis=1,inplace=True)\n"
   ]
  },
  {
   "cell_type": "code",
   "execution_count": 14,
   "id": "34d1a508",
   "metadata": {},
   "outputs": [
    {
     "data": {
      "text/html": [
       "<div>\n",
       "<style scoped>\n",
       "    .dataframe tbody tr th:only-of-type {\n",
       "        vertical-align: middle;\n",
       "    }\n",
       "\n",
       "    .dataframe tbody tr th {\n",
       "        vertical-align: top;\n",
       "    }\n",
       "\n",
       "    .dataframe thead th {\n",
       "        text-align: right;\n",
       "    }\n",
       "</style>\n",
       "<table border=\"1\" class=\"dataframe\">\n",
       "  <thead>\n",
       "    <tr style=\"text-align: right;\">\n",
       "      <th></th>\n",
       "      <th>Date</th>\n",
       "      <th>Time</th>\n",
       "      <th>Weekday</th>\n",
       "      <th>cc_num</th>\n",
       "      <th>merchant</th>\n",
       "      <th>category</th>\n",
       "      <th>amt</th>\n",
       "      <th>Name</th>\n",
       "      <th>gender</th>\n",
       "      <th>street</th>\n",
       "      <th>...</th>\n",
       "      <th>lat</th>\n",
       "      <th>long</th>\n",
       "      <th>city_pop</th>\n",
       "      <th>job</th>\n",
       "      <th>dob</th>\n",
       "      <th>trans_num</th>\n",
       "      <th>unix_time</th>\n",
       "      <th>merch_lat</th>\n",
       "      <th>merch_long</th>\n",
       "      <th>is_fraud</th>\n",
       "    </tr>\n",
       "  </thead>\n",
       "  <tbody>\n",
       "    <tr>\n",
       "      <th>0</th>\n",
       "      <td>2019-01-01</td>\n",
       "      <td>00:00:18</td>\n",
       "      <td>Tuesday</td>\n",
       "      <td>2703186189652095</td>\n",
       "      <td>fraud_Rippin, Kub and Mann</td>\n",
       "      <td>misc_net</td>\n",
       "      <td>4.97</td>\n",
       "      <td>Jennifer Banks</td>\n",
       "      <td>F</td>\n",
       "      <td>561 Perry Cove</td>\n",
       "      <td>...</td>\n",
       "      <td>36.0788</td>\n",
       "      <td>-81.1781</td>\n",
       "      <td>3495</td>\n",
       "      <td>Psychologist, counselling</td>\n",
       "      <td>1988-03-09</td>\n",
       "      <td>0b242abb623afc578575680df30655b9</td>\n",
       "      <td>1325376018</td>\n",
       "      <td>36.011293</td>\n",
       "      <td>-82.048315</td>\n",
       "      <td>0</td>\n",
       "    </tr>\n",
       "    <tr>\n",
       "      <th>1</th>\n",
       "      <td>2019-01-01</td>\n",
       "      <td>00:00:44</td>\n",
       "      <td>Tuesday</td>\n",
       "      <td>630423337322</td>\n",
       "      <td>fraud_Heller, Gutmann and Zieme</td>\n",
       "      <td>grocery_pos</td>\n",
       "      <td>107.23</td>\n",
       "      <td>Stephanie Gill</td>\n",
       "      <td>F</td>\n",
       "      <td>43039 Riley Greens Suite 393</td>\n",
       "      <td>...</td>\n",
       "      <td>48.8878</td>\n",
       "      <td>-118.2105</td>\n",
       "      <td>149</td>\n",
       "      <td>Special educational needs teacher</td>\n",
       "      <td>1978-06-21</td>\n",
       "      <td>1f76529f8574734946361c461b024d99</td>\n",
       "      <td>1325376044</td>\n",
       "      <td>49.159047</td>\n",
       "      <td>-118.186462</td>\n",
       "      <td>0</td>\n",
       "    </tr>\n",
       "    <tr>\n",
       "      <th>2</th>\n",
       "      <td>2019-01-01</td>\n",
       "      <td>00:00:51</td>\n",
       "      <td>Tuesday</td>\n",
       "      <td>38859492057661</td>\n",
       "      <td>fraud_Lind-Buckridge</td>\n",
       "      <td>entertainment</td>\n",
       "      <td>220.11</td>\n",
       "      <td>Edward Sanchez</td>\n",
       "      <td>M</td>\n",
       "      <td>594 White Dale Suite 530</td>\n",
       "      <td>...</td>\n",
       "      <td>42.1808</td>\n",
       "      <td>-112.2620</td>\n",
       "      <td>4154</td>\n",
       "      <td>Nature conservation officer</td>\n",
       "      <td>1962-01-19</td>\n",
       "      <td>a1a22d70485983eac12b5b88dad1cf95</td>\n",
       "      <td>1325376051</td>\n",
       "      <td>43.150704</td>\n",
       "      <td>-112.154481</td>\n",
       "      <td>0</td>\n",
       "    </tr>\n",
       "    <tr>\n",
       "      <th>3</th>\n",
       "      <td>2019-01-01</td>\n",
       "      <td>00:01:16</td>\n",
       "      <td>Tuesday</td>\n",
       "      <td>3534093764340240</td>\n",
       "      <td>fraud_Kutch, Hermiston and Farrell</td>\n",
       "      <td>gas_transport</td>\n",
       "      <td>45.00</td>\n",
       "      <td>Jeremy White</td>\n",
       "      <td>M</td>\n",
       "      <td>9443 Cynthia Court Apt. 038</td>\n",
       "      <td>...</td>\n",
       "      <td>46.2306</td>\n",
       "      <td>-112.1138</td>\n",
       "      <td>1939</td>\n",
       "      <td>Patent attorney</td>\n",
       "      <td>1967-01-12</td>\n",
       "      <td>6b849c168bdad6f867558c3793159a81</td>\n",
       "      <td>1325376076</td>\n",
       "      <td>47.034331</td>\n",
       "      <td>-112.561071</td>\n",
       "      <td>0</td>\n",
       "    </tr>\n",
       "    <tr>\n",
       "      <th>4</th>\n",
       "      <td>2019-01-01</td>\n",
       "      <td>00:03:06</td>\n",
       "      <td>Tuesday</td>\n",
       "      <td>375534208663984</td>\n",
       "      <td>fraud_Keeling-Crist</td>\n",
       "      <td>misc_pos</td>\n",
       "      <td>41.96</td>\n",
       "      <td>Tyler Garcia</td>\n",
       "      <td>M</td>\n",
       "      <td>408 Bradley Rest</td>\n",
       "      <td>...</td>\n",
       "      <td>38.4207</td>\n",
       "      <td>-79.4629</td>\n",
       "      <td>99</td>\n",
       "      <td>Dance movement psychotherapist</td>\n",
       "      <td>1986-03-28</td>\n",
       "      <td>a41d7549acf90789359a9aa5346dcb46</td>\n",
       "      <td>1325376186</td>\n",
       "      <td>38.674999</td>\n",
       "      <td>-78.632459</td>\n",
       "      <td>0</td>\n",
       "    </tr>\n",
       "  </tbody>\n",
       "</table>\n",
       "<p>5 rows × 23 columns</p>\n",
       "</div>"
      ],
      "text/plain": [
       "         Date      Time  Weekday            cc_num  \\\n",
       "0  2019-01-01  00:00:18  Tuesday  2703186189652095   \n",
       "1  2019-01-01  00:00:44  Tuesday      630423337322   \n",
       "2  2019-01-01  00:00:51  Tuesday    38859492057661   \n",
       "3  2019-01-01  00:01:16  Tuesday  3534093764340240   \n",
       "4  2019-01-01  00:03:06  Tuesday   375534208663984   \n",
       "\n",
       "                             merchant       category     amt            Name  \\\n",
       "0          fraud_Rippin, Kub and Mann       misc_net    4.97  Jennifer Banks   \n",
       "1     fraud_Heller, Gutmann and Zieme    grocery_pos  107.23  Stephanie Gill   \n",
       "2                fraud_Lind-Buckridge  entertainment  220.11  Edward Sanchez   \n",
       "3  fraud_Kutch, Hermiston and Farrell  gas_transport   45.00    Jeremy White   \n",
       "4                 fraud_Keeling-Crist       misc_pos   41.96    Tyler Garcia   \n",
       "\n",
       "  gender                        street  ...      lat      long  city_pop  \\\n",
       "0      F                561 Perry Cove  ...  36.0788  -81.1781      3495   \n",
       "1      F  43039 Riley Greens Suite 393  ...  48.8878 -118.2105       149   \n",
       "2      M      594 White Dale Suite 530  ...  42.1808 -112.2620      4154   \n",
       "3      M   9443 Cynthia Court Apt. 038  ...  46.2306 -112.1138      1939   \n",
       "4      M              408 Bradley Rest  ...  38.4207  -79.4629        99   \n",
       "\n",
       "                                 job         dob  \\\n",
       "0          Psychologist, counselling  1988-03-09   \n",
       "1  Special educational needs teacher  1978-06-21   \n",
       "2        Nature conservation officer  1962-01-19   \n",
       "3                    Patent attorney  1967-01-12   \n",
       "4     Dance movement psychotherapist  1986-03-28   \n",
       "\n",
       "                          trans_num   unix_time  merch_lat  merch_long  \\\n",
       "0  0b242abb623afc578575680df30655b9  1325376018  36.011293  -82.048315   \n",
       "1  1f76529f8574734946361c461b024d99  1325376044  49.159047 -118.186462   \n",
       "2  a1a22d70485983eac12b5b88dad1cf95  1325376051  43.150704 -112.154481   \n",
       "3  6b849c168bdad6f867558c3793159a81  1325376076  47.034331 -112.561071   \n",
       "4  a41d7549acf90789359a9aa5346dcb46  1325376186  38.674999  -78.632459   \n",
       "\n",
       "   is_fraud  \n",
       "0         0  \n",
       "1         0  \n",
       "2         0  \n",
       "3         0  \n",
       "4         0  \n",
       "\n",
       "[5 rows x 23 columns]"
      ]
     },
     "execution_count": 14,
     "metadata": {},
     "output_type": "execute_result"
    }
   ],
   "source": [
    "data.head()"
   ]
  },
  {
   "cell_type": "code",
   "execution_count": 15,
   "id": "7b39d6b1",
   "metadata": {},
   "outputs": [
    {
     "data": {
      "text/plain": [
       "1296675"
      ]
     },
     "execution_count": 15,
     "metadata": {},
     "output_type": "execute_result"
    }
   ],
   "source": [
    "len(data)"
   ]
  },
  {
   "cell_type": "code",
   "execution_count": 16,
   "id": "d5bcb4de",
   "metadata": {},
   "outputs": [
    {
     "data": {
      "text/plain": [
       "Date          0\n",
       "Time          0\n",
       "Weekday       0\n",
       "cc_num        0\n",
       "merchant      0\n",
       "category      0\n",
       "amt           0\n",
       "Name          0\n",
       "gender        0\n",
       "street        0\n",
       "city          0\n",
       "state         0\n",
       "zip           0\n",
       "lat           0\n",
       "long          0\n",
       "city_pop      0\n",
       "job           0\n",
       "dob           0\n",
       "trans_num     0\n",
       "unix_time     0\n",
       "merch_lat     0\n",
       "merch_long    0\n",
       "is_fraud      0\n",
       "dtype: int64"
      ]
     },
     "execution_count": 16,
     "metadata": {},
     "output_type": "execute_result"
    }
   ],
   "source": [
    "data.isna().sum()"
   ]
  },
  {
   "cell_type": "code",
   "execution_count": 17,
   "id": "998f5d77",
   "metadata": {},
   "outputs": [],
   "source": [
    "fraud=data[data['is_fraud']==1]\n",
    "notfraud=data[data['is_fraud']==0]"
   ]
  },
  {
   "cell_type": "code",
   "execution_count": 18,
   "id": "6b4be9ee",
   "metadata": {},
   "outputs": [
    {
     "data": {
      "text/plain": [
       "1289169"
      ]
     },
     "execution_count": 18,
     "metadata": {},
     "output_type": "execute_result"
    }
   ],
   "source": [
    "len(notfraud)"
   ]
  },
  {
   "cell_type": "code",
   "execution_count": 19,
   "id": "e2666523",
   "metadata": {},
   "outputs": [],
   "source": [
    "sample_nf=notfraud.sample(frac=0.007,replace=True,random_state=1)"
   ]
  },
  {
   "cell_type": "code",
   "execution_count": 20,
   "id": "cf7550ce",
   "metadata": {},
   "outputs": [],
   "source": [
    "data_2=fraud.append(sample_nf)"
   ]
  },
  {
   "cell_type": "markdown",
   "id": "9a2ebc1b",
   "metadata": {},
   "source": [
    "### Exploratory Data Analysis"
   ]
  },
  {
   "cell_type": "code",
   "execution_count": 21,
   "id": "7363feb4",
   "metadata": {},
   "outputs": [
    {
     "data": {
      "image/png": "[encoded data removed]",
      "text/plain": [
       "<Figure size 432x288 with 1 Axes>"
      ]
     },
     "metadata": {
      "needs_background": "light"
     },
     "output_type": "display_data"
    }
   ],
   "source": [
    "## Distribution of Targets\n",
    "sns.barplot(x=[0,1], y=data_2['is_fraud'].value_counts()).set_title('Distribution of Fraud Targets')\n",
    "plt.show()"
   ]
  },
  {
   "cell_type": "code",
   "execution_count": 22,
   "id": "5b193e5f",
   "metadata": {},
   "outputs": [
    {
     "data": {
      "text/plain": [
       "1289169"
      ]
     },
     "execution_count": 22,
     "metadata": {},
     "output_type": "execute_result"
    }
   ],
   "source": [
    "len(notfraud)"
   ]
  },
  {
   "cell_type": "markdown",
   "id": "1c54209c",
   "metadata": {},
   "source": [
    "#### We can see that the data is highly skewed hence we would sample the data to create datapoints for Fraud targets"
   ]
  },
  {
   "cell_type": "code",
   "execution_count": 23,
   "id": "561680fa",
   "metadata": {},
   "outputs": [
    {
     "data": {
      "image/png": "[encoded data removed]",
      "text/plain": [
       "<Figure size 432x288 with 1 Axes>"
      ]
     },
     "metadata": {
      "needs_background": "light"
     },
     "output_type": "display_data"
    }
   ],
   "source": [
    "fraud['gender'].value_counts().plot.bar().set_title('Distribution of Fraud Targets based on Gender');\n",
    "plt.show()"
   ]
  },
  {
   "cell_type": "code",
   "execution_count": 24,
   "id": "f64f3ed1",
   "metadata": {},
   "outputs": [
    {
     "data": {
      "image/png": "[encoded data removed]",
      "text/plain": [
       "<Figure size 576x576 with 1 Axes>"
      ]
     },
     "metadata": {
      "needs_background": "light"
     },
     "output_type": "display_data"
    }
   ],
   "source": [
    "## Distribution of Fraud targets by Weekday\n",
    "\n",
    "plt.figure(figsize=(8,8))\n",
    "fraud['Weekday'].value_counts().plot.barh().set_title('Distribution of Fraud Targets based by Weekday');\n",
    "plt.show()"
   ]
  },
  {
   "cell_type": "code",
   "execution_count": 25,
   "id": "b7759508",
   "metadata": {},
   "outputs": [
    {
     "data": {
      "image/png": "[encoded data removed]",
      "text/plain": [
       "<Figure size 576x576 with 1 Axes>"
      ]
     },
     "metadata": {
      "needs_background": "light"
     },
     "output_type": "display_data"
    }
   ],
   "source": [
    "\n",
    "plt.figure(figsize=(8,8))\n",
    "fraud['category'].value_counts().plot.barh().set_title('Distribution of Fraud Targets based on Categories');\n",
    "plt.show()"
   ]
  },
  {
   "cell_type": "code",
   "execution_count": 26,
   "id": "280da61d",
   "metadata": {},
   "outputs": [],
   "source": [
    "data=data_2"
   ]
  },
  {
   "cell_type": "markdown",
   "id": "4e901370",
   "metadata": {},
   "source": [
    "### Feature Selection"
   ]
  },
  {
   "cell_type": "code",
   "execution_count": 27,
   "id": "6fcf8fcb",
   "metadata": {},
   "outputs": [
    {
     "data": {
      "image/png": "[encoded data removed]",
      "text/plain": [
       "<Figure size 720x720 with 2 Axes>"
      ]
     },
     "metadata": {
      "needs_background": "light"
     },
     "output_type": "display_data"
    }
   ],
   "source": [
    "corrMatrix = data.corr()\n",
    "plt.figure(figsize=(10,10))\n",
    "sns.heatmap(corrMatrix, annot=True)\n",
    "plt.show()"
   ]
  },
  {
   "cell_type": "code",
   "execution_count": 28,
   "id": "f7dc00a8",
   "metadata": {},
   "outputs": [
    {
     "name": "stdout",
     "output_type": "stream",
     "text": [
      "Most Positive Correlations:\n",
      " city_pop     0.010152\n",
      "merch_lat    0.013888\n",
      "lat          0.014164\n",
      "amt          0.634072\n",
      "is_fraud     1.000000\n",
      "Name: is_fraud, dtype: float64\n",
      "\n",
      "Most Negative Correlations:\n",
      " unix_time    -0.031686\n",
      "zip          -0.011952\n",
      "cc_num        0.005740\n",
      "merch_long    0.008726\n",
      "long          0.009066\n",
      "Name: is_fraud, dtype: float64\n"
     ]
    }
   ],
   "source": [
    "data_corr=data.corr()['is_fraud'].sort_values()\n",
    "print('Most Positive Correlations:\\n', data_corr.tail(5))\n",
    "print('\\nMost Negative Correlations:\\n', data_corr.head(5))"
   ]
  },
  {
   "cell_type": "code",
   "execution_count": 29,
   "id": "00f407fd",
   "metadata": {},
   "outputs": [],
   "source": [
    "features=['merch_lat','lat','city_pop','amt','unix_time','zip','cc_num','long','merch_long','is_fraud']"
   ]
  },
  {
   "cell_type": "code",
   "execution_count": 30,
   "id": "b0f77019",
   "metadata": {},
   "outputs": [],
   "source": [
    "data_1=data[features]"
   ]
  },
  {
   "cell_type": "code",
   "execution_count": 31,
   "id": "01c9b75e",
   "metadata": {},
   "outputs": [],
   "source": [
    "### Splitting the data into Train and target column data\n",
    "\n",
    "X_train=data_1.drop(['is_fraud'],axis=1)\n",
    "y=data_1['is_fraud']"
   ]
  },
  {
   "cell_type": "code",
   "execution_count": 32,
   "id": "690e7f21",
   "metadata": {},
   "outputs": [],
   "source": [
    "### Splitting the train and test data into 80-20 split for model fitting\n",
    "\n",
    "X_train, X_test, y_train, y_test = train_test_split(X_train, y, test_size=0.20, random_state=22) "
   ]
  },
  {
   "cell_type": "code",
   "execution_count": 33,
   "id": "19ab6462",
   "metadata": {},
   "outputs": [
    {
     "data": {
      "text/html": [
       "<div>\n",
       "<style scoped>\n",
       "    .dataframe tbody tr th:only-of-type {\n",
       "        vertical-align: middle;\n",
       "    }\n",
       "\n",
       "    .dataframe tbody tr th {\n",
       "        vertical-align: top;\n",
       "    }\n",
       "\n",
       "    .dataframe thead th {\n",
       "        text-align: right;\n",
       "    }\n",
       "</style>\n",
       "<table border=\"1\" class=\"dataframe\">\n",
       "  <thead>\n",
       "    <tr style=\"text-align: right;\">\n",
       "      <th></th>\n",
       "      <th>merch_lat</th>\n",
       "      <th>lat</th>\n",
       "      <th>city_pop</th>\n",
       "      <th>amt</th>\n",
       "      <th>unix_time</th>\n",
       "      <th>zip</th>\n",
       "      <th>cc_num</th>\n",
       "      <th>long</th>\n",
       "      <th>merch_long</th>\n",
       "    </tr>\n",
       "  </thead>\n",
       "  <tbody>\n",
       "    <tr>\n",
       "      <th>173701</th>\n",
       "      <td>35.174848</td>\n",
       "      <td>34.3795</td>\n",
       "      <td>34882</td>\n",
       "      <td>128.49</td>\n",
       "      <td>1333250954</td>\n",
       "      <td>91321</td>\n",
       "      <td>3566094707272327</td>\n",
       "      <td>-118.5230</td>\n",
       "      <td>-118.781514</td>\n",
       "    </tr>\n",
       "    <tr>\n",
       "      <th>701890</th>\n",
       "      <td>39.576222</td>\n",
       "      <td>38.8852</td>\n",
       "      <td>17558</td>\n",
       "      <td>774.88</td>\n",
       "      <td>1351293312</td>\n",
       "      <td>22124</td>\n",
       "      <td>38534201672254</td>\n",
       "      <td>-77.3233</td>\n",
       "      <td>-76.868149</td>\n",
       "    </tr>\n",
       "    <tr>\n",
       "      <th>430328</th>\n",
       "      <td>35.346495</td>\n",
       "      <td>35.0583</td>\n",
       "      <td>238602</td>\n",
       "      <td>70.65</td>\n",
       "      <td>1342071508</td>\n",
       "      <td>28314</td>\n",
       "      <td>3595192916105588</td>\n",
       "      <td>-79.0080</td>\n",
       "      <td>-78.735132</td>\n",
       "    </tr>\n",
       "    <tr>\n",
       "      <th>233449</th>\n",
       "      <td>25.794173</td>\n",
       "      <td>26.7197</td>\n",
       "      <td>459921</td>\n",
       "      <td>287.63</td>\n",
       "      <td>1335567983</td>\n",
       "      <td>33417</td>\n",
       "      <td>676245600876</td>\n",
       "      <td>-80.1248</td>\n",
       "      <td>-80.542552</td>\n",
       "    </tr>\n",
       "    <tr>\n",
       "      <th>74250</th>\n",
       "      <td>36.696174</td>\n",
       "      <td>36.0424</td>\n",
       "      <td>6006</td>\n",
       "      <td>4.68</td>\n",
       "      <td>1329089856</td>\n",
       "      <td>27258</td>\n",
       "      <td>3525590521269779</td>\n",
       "      <td>-79.3242</td>\n",
       "      <td>-78.425301</td>\n",
       "    </tr>\n",
       "    <tr>\n",
       "      <th>...</th>\n",
       "      <td>...</td>\n",
       "      <td>...</td>\n",
       "      <td>...</td>\n",
       "      <td>...</td>\n",
       "      <td>...</td>\n",
       "      <td>...</td>\n",
       "      <td>...</td>\n",
       "      <td>...</td>\n",
       "      <td>...</td>\n",
       "    </tr>\n",
       "    <tr>\n",
       "      <th>989174</th>\n",
       "      <td>37.557442</td>\n",
       "      <td>38.2586</td>\n",
       "      <td>9815</td>\n",
       "      <td>288.67</td>\n",
       "      <td>1360291077</td>\n",
       "      <td>22968</td>\n",
       "      <td>4099707841315751</td>\n",
       "      <td>-78.4074</td>\n",
       "      <td>-78.026147</td>\n",
       "    </tr>\n",
       "    <tr>\n",
       "      <th>91280</th>\n",
       "      <td>42.033248</td>\n",
       "      <td>41.0935</td>\n",
       "      <td>2644</td>\n",
       "      <td>51.60</td>\n",
       "      <td>1330034331</td>\n",
       "      <td>44412</td>\n",
       "      <td>3577578023716568</td>\n",
       "      <td>-81.0425</td>\n",
       "      <td>-81.137624</td>\n",
       "    </tr>\n",
       "    <tr>\n",
       "      <th>928302</th>\n",
       "      <td>40.350417</td>\n",
       "      <td>41.0442</td>\n",
       "      <td>5950</td>\n",
       "      <td>163.75</td>\n",
       "      <td>1357227144</td>\n",
       "      <td>10962</td>\n",
       "      <td>340951438290556</td>\n",
       "      <td>-73.9609</td>\n",
       "      <td>-74.898278</td>\n",
       "    </tr>\n",
       "    <tr>\n",
       "      <th>55071</th>\n",
       "      <td>42.613670</td>\n",
       "      <td>42.8511</td>\n",
       "      <td>3032</td>\n",
       "      <td>41.64</td>\n",
       "      <td>1328208800</td>\n",
       "      <td>50421</td>\n",
       "      <td>4302475216404898</td>\n",
       "      <td>-93.6200</td>\n",
       "      <td>-93.035800</td>\n",
       "    </tr>\n",
       "    <tr>\n",
       "      <th>1107938</th>\n",
       "      <td>34.088727</td>\n",
       "      <td>34.1992</td>\n",
       "      <td>297</td>\n",
       "      <td>113.25</td>\n",
       "      <td>1365224188</td>\n",
       "      <td>38949</td>\n",
       "      <td>6011948324228984</td>\n",
       "      <td>-89.3820</td>\n",
       "      <td>-89.890371</td>\n",
       "    </tr>\n",
       "  </tbody>\n",
       "</table>\n",
       "<p>13224 rows × 9 columns</p>\n",
       "</div>"
      ],
      "text/plain": [
       "         merch_lat      lat  city_pop     amt   unix_time    zip  \\\n",
       "173701   35.174848  34.3795     34882  128.49  1333250954  91321   \n",
       "701890   39.576222  38.8852     17558  774.88  1351293312  22124   \n",
       "430328   35.346495  35.0583    238602   70.65  1342071508  28314   \n",
       "233449   25.794173  26.7197    459921  287.63  1335567983  33417   \n",
       "74250    36.696174  36.0424      6006    4.68  1329089856  27258   \n",
       "...            ...      ...       ...     ...         ...    ...   \n",
       "989174   37.557442  38.2586      9815  288.67  1360291077  22968   \n",
       "91280    42.033248  41.0935      2644   51.60  1330034331  44412   \n",
       "928302   40.350417  41.0442      5950  163.75  1357227144  10962   \n",
       "55071    42.613670  42.8511      3032   41.64  1328208800  50421   \n",
       "1107938  34.088727  34.1992       297  113.25  1365224188  38949   \n",
       "\n",
       "                   cc_num      long  merch_long  \n",
       "173701   3566094707272327 -118.5230 -118.781514  \n",
       "701890     38534201672254  -77.3233  -76.868149  \n",
       "430328   3595192916105588  -79.0080  -78.735132  \n",
       "233449       676245600876  -80.1248  -80.542552  \n",
       "74250    3525590521269779  -79.3242  -78.425301  \n",
       "...                   ...       ...         ...  \n",
       "989174   4099707841315751  -78.4074  -78.026147  \n",
       "91280    3577578023716568  -81.0425  -81.137624  \n",
       "928302    340951438290556  -73.9609  -74.898278  \n",
       "55071    4302475216404898  -93.6200  -93.035800  \n",
       "1107938  6011948324228984  -89.3820  -89.890371  \n",
       "\n",
       "[13224 rows x 9 columns]"
      ]
     },
     "execution_count": 33,
     "metadata": {},
     "output_type": "execute_result"
    }
   ],
   "source": [
    "X_train"
   ]
  },
  {
   "cell_type": "code",
   "execution_count": 57,
   "id": "507bce02",
   "metadata": {},
   "outputs": [
    {
     "data": {
      "text/plain": [
       "Text(0, 0.5, 'Error Rate')"
      ]
     },
     "execution_count": 57,
     "metadata": {},
     "output_type": "execute_result"
    },
    {
     "data": {
      "image/png": "[encoded data removed]",
      "text/plain": [
       "<Figure size 720x432 with 1 Axes>"
      ]
     },
     "metadata": {
      "needs_background": "light"
     },
     "output_type": "display_data"
    }
   ],
   "source": [
    "## Creating the model and fitting our data to it\n",
    "error_rate = []\n",
    "for i in range(1,40):\n",
    " classifier = KNeighborsClassifier(n_neighbors=i,p=1)\n",
    " classifier.fit(X_train,y_train)\n",
    " y_pred = classifier.predict(X_test)\n",
    " error_rate.append(np.mean(y_pred != y_test))\n",
    "\n",
    "plt.figure(figsize=(10,6))\n",
    "plt.plot(range(1,40),error_rate,color='blue', linestyle='dashed', \n",
    "         marker='o',markerfacecolor='red', markersize=10)\n",
    "plt.title('Error Rate vs. K Value')\n",
    "plt.xlabel('K')\n",
    "plt.ylabel('Error Rate')\n"
   ]
  },
  {
   "cell_type": "code",
   "execution_count": 58,
   "id": "99c0d99b",
   "metadata": {},
   "outputs": [
    {
     "name": "stdout",
     "output_type": "stream",
     "text": [
      "KNN Accuracy:  91.35\n"
     ]
    }
   ],
   "source": [
    "classifier = KNeighborsClassifier(n_neighbors=1,p=1)\n",
    "classifier.fit(X_train,y_train)\n",
    "y_pred = classifier.predict(X_test)\n",
    "score_knn=metrics.accuracy_score(y_test, y_pred)\n",
    "score_knn=round(score_knn*100,2)\n",
    "# Model Accuracy, how often is the classifier correct?\n",
    "print(\"KNN Accuracy: \" , score_rf)"
   ]
  },
  {
   "cell_type": "code",
   "execution_count": 59,
   "id": "f0cac42c",
   "metadata": {},
   "outputs": [
    {
     "data": {
      "image/png": "[encoded data removed]",
      "text/plain": [
       "<Figure size 648x648 with 2 Axes>"
      ]
     },
     "metadata": {
      "needs_background": "light"
     },
     "output_type": "display_data"
    }
   ],
   "source": [
    "import matplotlib.pyplot as plt\n",
    "import seaborn as sns\n",
    "from sklearn import metrics\n",
    "cm = metrics.confusion_matrix(y_test, y_pred)\n",
    "plt.figure(figsize=(9,9))\n",
    "sns.heatmap(cm, annot=True, fmt=\".3f\", linewidths=.5, square = True, cmap = 'Blues_r');\n",
    "plt.ylabel('Actual label');\n",
    "plt.xlabel('Predicted label');\n",
    "all_sample_title = 'KNN Score: {0}'.format(score_rf)\n",
    "plt.title(all_sample_title, size = 15);"
   ]
  },
  {
   "cell_type": "markdown",
   "id": "11f9df1d",
   "metadata": {},
   "source": [
    "### Random Forest Classifier"
   ]
  },
  {
   "cell_type": "code",
   "execution_count": 34,
   "id": "a90ff784",
   "metadata": {},
   "outputs": [
    {
     "name": "stdout",
     "output_type": "stream",
     "text": [
      "Random Forest Classifier Accuracy:  91.35\n"
     ]
    }
   ],
   "source": [
    "# Creating the random forest model and predicting our results on it\n",
    "\n",
    "from sklearn.ensemble import RandomForestClassifier\n",
    "from sklearn.datasets import make_classification\n",
    "\n",
    "from sklearn.model_selection import GridSearchCV\n",
    "clf=RandomForestClassifier(n_estimators=100)\n",
    "\n",
    "#Train the model using the training sets y_pred=clf.predict(X_test)\n",
    "clf.fit(X_train,y_train)\n",
    "\n",
    "y_pred=clf.predict(X_test)\n",
    "from sklearn import metrics\n",
    "score_rf=metrics.accuracy_score(y_test, y_pred)\n",
    "score_rf=round(score_rf*100,2)\n",
    "# Model Accuracy, how often is the classifier correct?\n",
    "print(\"Random Forest Classifier Accuracy: \" , score_rf)"
   ]
  },
  {
   "cell_type": "markdown",
   "id": "5ab0b6f6",
   "metadata": {},
   "source": [
    "### Loss function for Random Forest "
   ]
  },
  {
   "cell_type": "code",
   "execution_count": 36,
   "id": "d7afabf6",
   "metadata": {},
   "outputs": [
    {
     "data": {
      "image/png": "[encoded data removed]",
      "text/plain": [
       "<Figure size 576x432 with 1 Axes>"
      ]
     },
     "metadata": {
      "needs_background": "light"
     },
     "output_type": "display_data"
    }
   ],
   "source": [
    "## We again use Mean squred error as our loss function\n",
    "\n",
    "import numpy as np\n",
    "import matplotlib.pyplot as plt\n",
    " \n",
    "'''\n",
    "Hypothesis Function - Sigmoid function\n",
    "'''\n",
    "def sigmoid(z):\n",
    "    return 1.0 / (1.0 + np.exp(-z))\n",
    " \n",
    "'''\n",
    "yHat represents the predicted value / probability value calculated as output of hypothesis / sigmoid function\n",
    " \n",
    "y represents the actual label\n",
    "'''\n",
    "def cross_entropy_loss(y_pred, y_test):\n",
    "    if y_test == 1:\n",
    "      return -np.log(y_pred)\n",
    "    else:\n",
    "      return -np.log(1 - y_pred)\n",
    "\n",
    "\n",
    "# Calculate sample values for Z\n",
    "#\n",
    "z = np.arange(-10, 10, 0.1)\n",
    "#\n",
    "# Calculate the hypothesis value / probability value\n",
    "#\n",
    "h_z = sigmoid(z)\n",
    "#\n",
    "# Value of cost function when y = 1\n",
    "# -log(h(x))\n",
    "#\n",
    "cost_1 = cross_entropy_loss(h_z, 1)\n",
    "#\n",
    "# Value of cost function when y = 0\n",
    "# -log(1 - h(x))\n",
    "#\n",
    "cost_0 = cross_entropy_loss(h_z, 0)\n",
    "#\n",
    "# Plot the cross entropy loss\n",
    "#\n",
    "fig, ax = plt.subplots(figsize=(8,6))\n",
    "plt.plot(h_z, cost_1, label='J(w) if y=1')\n",
    "plt.plot(h_z, cost_0, label='J(w) if y=0')\n",
    "plt.xlabel('$\\phi$(z)')\n",
    "plt.ylabel('J(w)')\n",
    "plt.legend(loc='best')\n",
    "plt.title('Cross Entropy Loss Function for Random Forest')\n",
    "plt.tight_layout()\n",
    "plt.show()"
   ]
  },
  {
   "cell_type": "markdown",
   "id": "570fd591",
   "metadata": {},
   "source": [
    "### Confusion Matrix for Random Forest"
   ]
  },
  {
   "cell_type": "code",
   "execution_count": 37,
   "id": "880da4f8",
   "metadata": {},
   "outputs": [
    {
     "data": {
      "image/png": "[encoded data removed]",
      "text/plain": [
       "<Figure size 648x648 with 2 Axes>"
      ]
     },
     "metadata": {
      "needs_background": "light"
     },
     "output_type": "display_data"
    }
   ],
   "source": [
    "## Plotting confusion matrix to visualize our findings\n",
    "\n",
    "import matplotlib.pyplot as plt\n",
    "import seaborn as sns\n",
    "from sklearn import metrics\n",
    "cm = metrics.confusion_matrix(y_test, y_pred)\n",
    "plt.figure(figsize=(9,9))\n",
    "sns.heatmap(cm, annot=True, fmt=\".3f\", linewidths=.5, square = True, cmap = 'Blues_r');\n",
    "plt.ylabel('Actual label');\n",
    "plt.xlabel('Predicted label');\n",
    "all_sample_title = 'Random Forest Accuracy Score: {0}'.format(score_rf)\n",
    "plt.title(all_sample_title, size = 15);"
   ]
  },
  {
   "cell_type": "markdown",
   "id": "e5fdc7c9",
   "metadata": {},
   "source": [
    "### XG Boost Classifier"
   ]
  },
  {
   "cell_type": "code",
   "execution_count": 38,
   "id": "f46c51ce",
   "metadata": {},
   "outputs": [],
   "source": [
    "### We specify the parameters to be used\n",
    "\n",
    "from sklearn.model_selection import RandomizedSearchCV, GridSearchCV\n",
    "import xgboost\n",
    "params={\n",
    " \"learning_rate\"    : [0.05, 0.10, 0.15, 0.20, 0.25, 0.30 ] ,\n",
    " \"max_depth\"        : [ 3, 4, 5, 6, 8, 10, 12, 15],\n",
    " \"min_child_weight\" : [ 1, 3, 5, 7 ],\n",
    " \"gamma\"            : [ 0.0, 0.1, 0.2 , 0.3, 0.4 ],\n",
    " \"colsample_bytree\" : [ 0.3, 0.4, 0.5 , 0.7 ]\n",
    "    \n",
    "}"
   ]
  },
  {
   "cell_type": "code",
   "execution_count": 39,
   "id": "58212422",
   "metadata": {},
   "outputs": [
    {
     "name": "stdout",
     "output_type": "stream",
     "text": [
      "Fitting 5 folds for each of 10 candidates, totalling 50 fits\n",
      "[20:00:37] WARNING: D:\\bld\\xgboost-split_1631904903843\\work\\src\\learner.cc:1095: Starting in XGBoost 1.3.0, the default evaluation metric used with the objective 'binary:logistic' was changed from 'error' to 'logloss'. Explicitly set eval_metric if you'd like to restore the old behavior.\n"
     ]
    },
    {
     "data": {
      "text/plain": [
       "RandomizedSearchCV(cv=5,\n",
       "                   estimator=XGBClassifier(base_score=None, booster=None,\n",
       "                                           colsample_bylevel=None,\n",
       "                                           colsample_bynode=None,\n",
       "                                           colsample_bytree=None, gamma=None,\n",
       "                                           gpu_id=None, importance_type='gain',\n",
       "                                           interaction_constraints=None,\n",
       "                                           learning_rate=None,\n",
       "                                           max_delta_step=None, max_depth=None,\n",
       "                                           min_child_weight=None, missing=nan,\n",
       "                                           monotone_constraints=None,\n",
       "                                           n_estimators=100,...\n",
       "                                           random_state=None, reg_alpha=None,\n",
       "                                           reg_lambda=None,\n",
       "                                           scale_pos_weight=None,\n",
       "                                           subsample=None, tree_method=None,\n",
       "                                           validate_parameters=None,\n",
       "                                           verbosity=None),\n",
       "                   n_jobs=-1,\n",
       "                   param_distributions={'colsample_bytree': [0.3, 0.4, 0.5,\n",
       "                                                             0.7],\n",
       "                                        'gamma': [0.0, 0.1, 0.2, 0.3, 0.4],\n",
       "                                        'learning_rate': [0.05, 0.1, 0.15, 0.2,\n",
       "                                                          0.25, 0.3],\n",
       "                                        'max_depth': [3, 4, 5, 6, 8, 10, 12,\n",
       "                                                      15],\n",
       "                                        'min_child_weight': [1, 3, 5, 7]},\n",
       "                   scoring='accuracy', verbose=3)"
      ]
     },
     "execution_count": 39,
     "metadata": {},
     "output_type": "execute_result"
    }
   ],
   "source": [
    "classifier=xgboost.XGBClassifier()\n",
    "random_search=RandomizedSearchCV(classifier,param_distributions=params,n_iter=10,scoring='accuracy',n_jobs=-1,cv=5,verbose=3)\n",
    "random_search.fit(X_train,y_train)"
   ]
  },
  {
   "cell_type": "code",
   "execution_count": 40,
   "id": "131d91ee",
   "metadata": {},
   "outputs": [
    {
     "data": {
      "text/plain": [
       "XGBClassifier(base_score=0.5, booster='gbtree', colsample_bylevel=1,\n",
       "              colsample_bynode=1, colsample_bytree=0.5, gamma=0.0, gpu_id=-1,\n",
       "              importance_type='gain', interaction_constraints='',\n",
       "              learning_rate=0.25, max_delta_step=0, max_depth=8,\n",
       "              min_child_weight=3, missing=nan, monotone_constraints='()',\n",
       "              n_estimators=100, n_jobs=8, num_parallel_tree=1, random_state=0,\n",
       "              reg_alpha=0, reg_lambda=1, scale_pos_weight=1, subsample=1,\n",
       "              tree_method='exact', validate_parameters=1, verbosity=None)"
      ]
     },
     "execution_count": 40,
     "metadata": {},
     "output_type": "execute_result"
    }
   ],
   "source": [
    "\n",
    "random_search.best_estimator_"
   ]
  },
  {
   "cell_type": "code",
   "execution_count": 41,
   "id": "c3da8d4d",
   "metadata": {},
   "outputs": [
    {
     "data": {
      "text/plain": [
       "{'min_child_weight': 3,\n",
       " 'max_depth': 8,\n",
       " 'learning_rate': 0.25,\n",
       " 'gamma': 0.0,\n",
       " 'colsample_bytree': 0.5}"
      ]
     },
     "execution_count": 41,
     "metadata": {},
     "output_type": "execute_result"
    }
   ],
   "source": [
    "random_search.best_params_"
   ]
  },
  {
   "cell_type": "code",
   "execution_count": 42,
   "id": "d3f89fa2",
   "metadata": {},
   "outputs": [],
   "source": [
    "### Use the best Parameters\n",
    "\n",
    "classifier=xgboost.XGBClassifier(base_score=0.5, booster='gbtree', colsample_bylevel=1,\n",
    "              colsample_bynode=1, colsample_bytree=0.4, gamma=0.3, gpu_id=-1,\n",
    "              importance_type='gain', interaction_constraints='',\n",
    "              learning_rate=0.3, max_delta_step=0, max_depth=15,\n",
    "              min_child_weight=1, missing=np.nan, monotone_constraints='()',\n",
    "              n_estimators=100, n_jobs=8, num_parallel_tree=1, random_state=0,\n",
    "              reg_alpha=0, reg_lambda=1, scale_pos_weight=1, subsample=1,\n",
    "              tree_method='exact', validate_parameters=1, verbosity=None)"
   ]
  },
  {
   "cell_type": "code",
   "execution_count": 43,
   "id": "cac989fe",
   "metadata": {},
   "outputs": [
    {
     "name": "stdout",
     "output_type": "stream",
     "text": [
      "[20:00:38] WARNING: D:\\bld\\xgboost-split_1631904903843\\work\\src\\learner.cc:1095: Starting in XGBoost 1.3.0, the default evaluation metric used with the objective 'binary:logistic' was changed from 'error' to 'logloss'. Explicitly set eval_metric if you'd like to restore the old behavior.\n",
      "[20:00:40] WARNING: D:\\bld\\xgboost-split_1631904903843\\work\\src\\learner.cc:1095: Starting in XGBoost 1.3.0, the default evaluation metric used with the objective 'binary:logistic' was changed from 'error' to 'logloss'. Explicitly set eval_metric if you'd like to restore the old behavior.\n",
      "[20:00:41] WARNING: D:\\bld\\xgboost-split_1631904903843\\work\\src\\learner.cc:1095: Starting in XGBoost 1.3.0, the default evaluation metric used with the objective 'binary:logistic' was changed from 'error' to 'logloss'. Explicitly set eval_metric if you'd like to restore the old behavior.\n",
      "[20:00:43] WARNING: D:\\bld\\xgboost-split_1631904903843\\work\\src\\learner.cc:1095: Starting in XGBoost 1.3.0, the default evaluation metric used with the objective 'binary:logistic' was changed from 'error' to 'logloss'. Explicitly set eval_metric if you'd like to restore the old behavior.\n",
      "[20:00:45] WARNING: D:\\bld\\xgboost-split_1631904903843\\work\\src\\learner.cc:1095: Starting in XGBoost 1.3.0, the default evaluation metric used with the objective 'binary:logistic' was changed from 'error' to 'logloss'. Explicitly set eval_metric if you'd like to restore the old behavior.\n",
      "XGBoost Accuracy:  91.77\n"
     ]
    }
   ],
   "source": [
    "## Calculate the accuracy of the model\n",
    "from sklearn.model_selection import cross_val_score\n",
    "score=cross_val_score(classifier,X_train,y_train,cv=5)\n",
    "print(\"XGBoost Accuracy: \",round(score.mean()*100,2))"
   ]
  },
  {
   "cell_type": "code",
   "execution_count": 46,
   "id": "206d85c2",
   "metadata": {},
   "outputs": [
    {
     "data": {
      "image/png": "[encoded data removed]",
      "text/plain": [
       "<Figure size 576x432 with 1 Axes>"
      ]
     },
     "metadata": {
      "needs_background": "light"
     },
     "output_type": "display_data"
    }
   ],
   "source": [
    "## We again use Mean squred error as our loss function\n",
    "\n",
    "import numpy as np\n",
    "import matplotlib.pyplot as plt\n",
    " \n",
    "def sigmoid(z):\n",
    "    return 1.0 / (1.0 + np.exp(-z))\n",
    "def cross_entropy_loss(y_pred, y_test):\n",
    "    if y_test == 1:\n",
    "      return -np.log(y_pred)\n",
    "    else:\n",
    "      return -np.log(1 - y_pred)\n",
    "\n",
    "\n",
    "# Calculate sample values for Z\n",
    "#\n",
    "z = np.arange(-10, 10, 0.1)\n",
    "#\n",
    "# Calculate the hypothesis value / probability value\n",
    "#\n",
    "h_z = sigmoid(z)\n",
    "#\n",
    "# Value of cost function when y = 1\n",
    "# -log(h(x))\n",
    "#\n",
    "cost_1 = cross_entropy_loss(h_z, 1)\n",
    "#\n",
    "# Value of cost function when y = 0\n",
    "# -log(1 - h(x))\n",
    "#\n",
    "cost_0 = cross_entropy_loss(h_z, 0)\n",
    "#\n",
    "# Plot the cross entropy loss\n",
    "#\n",
    "fig, ax = plt.subplots(figsize=(8,6))\n",
    "plt.plot(h_z, cost_1, label='J(w) if y=1')\n",
    "plt.plot(h_z, cost_0, label='J(w) if y=0')\n",
    "plt.xlabel('$\\phi$(z)')\n",
    "plt.ylabel('J(w)')\n",
    "plt.legend(loc='best')\n",
    "plt.title('Cross Entropy Loss Function for XGBoost')\n",
    "plt.tight_layout()\n",
    "plt.show()"
   ]
  },
  {
   "cell_type": "code",
   "execution_count": 44,
   "id": "94c218af",
   "metadata": {},
   "outputs": [
    {
     "data": {
      "image/png": "[encoded data removed]",
      "text/plain": [
       "<Figure size 648x648 with 2 Axes>"
      ]
     },
     "metadata": {
      "needs_background": "light"
     },
     "output_type": "display_data"
    }
   ],
   "source": [
    "### Plot our findings using the Confusion Matrix\n",
    "\n",
    "import matplotlib.pyplot as plt\n",
    "import seaborn as sns\n",
    "from sklearn import metrics\n",
    "cm = metrics.confusion_matrix(y_test, y_pred)\n",
    "plt.figure(figsize=(9,9))\n",
    "sns.heatmap(cm, annot=True, fmt=\".3f\", linewidths=.5, square = True, cmap = 'Blues_r');\n",
    "plt.ylabel('Actual label');\n",
    "plt.xlabel('Predicted label');\n",
    "all_sample_title = 'XG Boost Accuracy Score: {0}'.format(round(score.mean()*100,2))\n",
    "plt.title(all_sample_title, size = 15);"
   ]
  },
  {
   "cell_type": "code",
   "execution_count": null,
   "id": "1fbdd65e",
   "metadata": {},
   "outputs": [],
   "source": []
  }
 ],
 "metadata": {
  "kernelspec": {
   "display_name": "Python 3",
   "language": "python",
   "name": "python3"
  },
  "language_info": {
   "codemirror_mode": {
    "name": "ipython",
    "version": 3
   },
   "file_extension": ".py",
   "mimetype": "text/x-python",
   "name": "python",
   "nbconvert_exporter": "python",
   "pygments_lexer": "ipython3",
   "version": "3.8.8"
  }
 },
 "nbformat": 4,
 "nbformat_minor": 5
}
